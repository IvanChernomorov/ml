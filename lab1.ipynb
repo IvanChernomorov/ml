{
 "cells": [
  {
   "cell_type": "code",
   "execution_count": 2,
   "id": "22664981",
   "metadata": {},
   "outputs": [],
   "source": [
    "import numpy as np\n",
    "from numpy import random"
   ]
  },
  {
   "cell_type": "code",
   "execution_count": 9,
   "id": "43183da4",
   "metadata": {},
   "outputs": [
    {
     "name": "stdout",
     "output_type": "stream",
     "text": [
      "[0. 0. 0. 0. 0. 0. 0. 0. 0. 0.]\n"
     ]
    }
   ],
   "source": [
    "v1 = np.zeros(10)\n",
    "print(v1)"
   ]
  },
  {
   "cell_type": "code",
   "execution_count": 10,
   "id": "156953ad",
   "metadata": {},
   "outputs": [
    {
     "name": "stdout",
     "output_type": "stream",
     "text": [
      "[0. 0. 0. 0. 1. 0. 0. 0. 0. 0.]\n"
     ]
    }
   ],
   "source": [
    "v2 = np.zeros(10)\n",
    "v2[4] = 1\n",
    "print(v2)"
   ]
  },
  {
   "cell_type": "code",
   "execution_count": 19,
   "id": "73365f64",
   "metadata": {},
   "outputs": [
    {
     "name": "stdout",
     "output_type": "stream",
     "text": [
      "[0.98146376 0.55435988 0.3649751  0.55148689 0.41133253 0.03048331\n",
      " 0.58415629 0.20314062 0.13307239 0.24018192 0.1828687  0.79217351\n",
      " 0.48443464 0.98312019 0.74348372 0.43161489 0.75730156 0.17977074\n",
      " 0.50786798 0.92549847]\n",
      "[[ 0]\n",
      " [ 1]\n",
      " [ 2]\n",
      " [ 3]\n",
      " [ 4]\n",
      " [ 5]\n",
      " [ 6]\n",
      " [ 7]\n",
      " [ 8]\n",
      " [ 9]\n",
      " [10]\n",
      " [11]\n",
      " [12]\n",
      " [13]\n",
      " [14]\n",
      " [15]\n",
      " [16]\n",
      " [17]\n",
      " [18]\n",
      " [19]]\n"
     ]
    }
   ],
   "source": [
    "v3 = np.random.rand(20)\n",
    "print(v3)\n",
    "print(np.argwhere(v3))"
   ]
  },
  {
   "cell_type": "code",
   "execution_count": 20,
   "id": "4d7ac25e",
   "metadata": {},
   "outputs": [
    {
     "name": "stdout",
     "output_type": "stream",
     "text": [
      "[0.98146376 0.55435988 0.3649751  0.55148689 0.41133253 0.03048331\n",
      " 0.58415629 0.20314062 0.13307239 0.24018192 0.1828687  0.79217351\n",
      " 0.48443464 0.98312019 0.74348372 0.43161489 0.75730156 0.17977074\n",
      " 0.50786798 0.92549847]\n"
     ]
    }
   ],
   "source": [
    "v4 = np.random.rand(3, 3, 3)\n",
    "print(v3)"
   ]
  },
  {
   "cell_type": "code",
   "execution_count": 21,
   "id": "1743735d",
   "metadata": {},
   "outputs": [
    {
     "name": "stdout",
     "output_type": "stream",
     "text": [
      "[0.53804868 0.68700423 0.78431757 0.83234025 0.49072087 0.76118627\n",
      " 0.8631665  0.65244217 0.78792585 0.17603132]\n",
      "0.6573183713012366\n"
     ]
    }
   ],
   "source": [
    "v5 = np.random.rand(10)\n",
    "print(v5)\n",
    "print(np.average(v5))"
   ]
  },
  {
   "cell_type": "code",
   "execution_count": 32,
   "id": "cc04f4b7",
   "metadata": {},
   "outputs": [
    {
     "name": "stdout",
     "output_type": "stream",
     "text": [
      "[[2 8 8]\n",
      " [5 4 1]\n",
      " [6 8 8]\n",
      " [8 5 1]\n",
      " [2 7 5]]\n",
      "[[6 4]\n",
      " [1 3]\n",
      " [0 3]]\n",
      "[[20 56]\n",
      " [34 35]\n",
      " [44 72]\n",
      " [53 50]\n",
      " [19 44]]\n"
     ]
    }
   ],
   "source": [
    "v6_1 = np.random.randint(10, size=[5, 3])\n",
    "v6_2 = np.random.randint(10, size =[3, 2])\n",
    "print(v6_1)\n",
    "print(v6_2)\n",
    "print(np.matmul(v6_1, v6_2))\n"
   ]
  },
  {
   "cell_type": "code",
   "execution_count": 34,
   "id": "0aa90bf5",
   "metadata": {},
   "outputs": [
    {
     "name": "stdout",
     "output_type": "stream",
     "text": [
      "[[7 6 8 0]\n",
      " [6 1 0 4]\n",
      " [9 2 3 9]\n",
      " [5 8 5 8]]\n",
      "[[0 9 3 2]\n",
      " [9 9 9 4]\n",
      " [2 5 4 0]\n",
      " [7 2 1 6]]\n",
      "[[ 70 157 107  38]\n",
      " [ 37  71  31  40]\n",
      " [ 87 132  66  80]\n",
      " [138 158 115  90]]\n",
      "[70 71 66 90]\n"
     ]
    }
   ],
   "source": [
    "v7_1 = np.random.randint(10, size =[4, 4])\n",
    "v7_2 = np.random.randint(10, size =[4, 4])\n",
    "v7 = np.matmul(v7_1, v7_2)\n",
    "print(v7_1)\n",
    "print(v7_2)\n",
    "print(v7)\n",
    "print(np.diagonal(v7))\n"
   ]
  },
  {
   "cell_type": "code",
   "execution_count": 39,
   "id": "e25125ac",
   "metadata": {},
   "outputs": [
    {
     "name": "stdout",
     "output_type": "stream",
     "text": [
      "[11  4 36 29 16 40 29  8  5 45 29 37 32 11 38  0 32 18 27 10]\n",
      "[11  4 36 29 16 40 29  8  5  0 29 37 32 11 38  0 32 18 27 10]\n"
     ]
    }
   ],
   "source": [
    "v8 = np.random.randint(50, size = 20)\n",
    "print(v8)\n",
    "v8[v8 == v8.max()] = 0\n",
    "print(v8)"
   ]
  },
  {
   "cell_type": "code",
   "execution_count": 44,
   "id": "056a5368",
   "metadata": {},
   "outputs": [
    {
     "name": "stdout",
     "output_type": "stream",
     "text": [
      "[1 4 6 6 6 4 2 6 9 3 2 9 8 4 3 4 4 0 4 4]\n",
      "[0 1 2 3 4 6 8 9]\n"
     ]
    }
   ],
   "source": [
    "v9 = np.random.randint(10, size = 20)\n",
    "print(v9)\n",
    "print(np.unique(v9))"
   ]
  },
  {
   "cell_type": "code",
   "execution_count": 47,
   "id": "23873d11",
   "metadata": {},
   "outputs": [
    {
     "name": "stdout",
     "output_type": "stream",
     "text": [
      "[[1 3 7 3]\n",
      " [0 5 8 9]\n",
      " [2 8 1 7]\n",
      " [5 4 6 4]]\n",
      "[[-3.5625 -1.5625  2.4375 -1.5625]\n",
      " [-4.5625  0.4375  3.4375  4.4375]\n",
      " [-2.5625  3.4375 -3.5625  2.4375]\n",
      " [ 0.4375 -0.5625  1.4375 -0.5625]]\n"
     ]
    }
   ],
   "source": [
    "v10 = np.random.randint(10, size = [4, 4])\n",
    "print(v10)\n",
    "v10 = v10 - np.average(v10)\n",
    "print(v10)"
   ]
  },
  {
   "cell_type": "code",
   "execution_count": 50,
   "id": "08076b37",
   "metadata": {},
   "outputs": [
    {
     "name": "stdout",
     "output_type": "stream",
     "text": [
      "[[5 0 5 5]\n",
      " [8 8 4 1]\n",
      " [6 3 5 7]\n",
      " [8 5 1 5]]\n",
      "[[8 8 4 1]\n",
      " [5 0 5 5]\n",
      " [6 3 5 7]\n",
      " [8 5 1 5]]\n"
     ]
    }
   ],
   "source": [
    "v11 = np.random.randint(10, size = [4, 4])\n",
    "print(v11)\n",
    "v11[[0, 1]] = v11[[1, 0]]\n",
    "print(v11)"
   ]
  },
  {
   "cell_type": "code",
   "execution_count": 7,
   "id": "bd6275b7",
   "metadata": {},
   "outputs": [
    {
     "name": "stdout",
     "output_type": "stream",
     "text": [
      "[1 1 1 3 9 5 8 4 5 5 4 2 7 9 7 6 2 4 0 5]\n"
     ]
    },
    {
     "data": {
      "text/plain": [
       "array([8, 9, 9])"
      ]
     },
     "execution_count": 7,
     "metadata": {},
     "output_type": "execute_result"
    }
   ],
   "source": [
    "v12 = np.random.randint(10, size=20)\n",
    "print(v12)\n",
    "np.sort(v12)[-3::]\n"
   ]
  },
  {
   "cell_type": "code",
   "execution_count": 16,
   "id": "138313d4",
   "metadata": {},
   "outputs": [
    {
     "name": "stdout",
     "output_type": "stream",
     "text": [
      "[[7 4 4 2 2]\n",
      " [2 9 7 3 7]\n",
      " [7 5 3 8 5]\n",
      " [6 8 2 3 4]\n",
      " [3 8 1 2 5]]\n"
     ]
    },
    {
     "data": {
      "text/plain": [
       "array([19, 28, 28, 23, 19])"
      ]
     },
     "execution_count": 16,
     "metadata": {},
     "output_type": "execute_result"
    }
   ],
   "source": [
    "v13 = np.random.randint(1, 10, size = [5, 5])\n",
    "print(v13)\n",
    "np.sum(v13, axis = 1)"
   ]
  },
  {
   "cell_type": "code",
   "execution_count": 24,
   "id": "dee88f8c",
   "metadata": {},
   "outputs": [
    {
     "name": "stdout",
     "output_type": "stream",
     "text": [
      "[ 0.67546977  0.22119767 -0.49291321  0.10748023 -0.82701549 -0.80663366\n",
      "  0.46900862  0.77013806  0.71836513 -0.061042  ]\n",
      "[ 1.  1. -1.  1. -1. -1.  1.  1.  1. -1.]\n"
     ]
    }
   ],
   "source": [
    "v14 = np.random.rand(10) *2-1\n",
    "print(v14)\n",
    "v14[v14<0]=-1\n",
    "v14[v14>0]=1\n",
    "print(v14)"
   ]
  },
  {
   "cell_type": "code",
   "execution_count": 30,
   "id": "30e7157b",
   "metadata": {},
   "outputs": [
    {
     "name": "stdout",
     "output_type": "stream",
     "text": [
      "[39 67 80 57  5 14 82 70 97 36 47 54]\n",
      "[243 171 234]\n"
     ]
    }
   ],
   "source": [
    "v15 = np.random.randint(1, 100, size=12)\n",
    "print(v15)\n",
    "v15_1 = np.array_split(v15, 3)\n",
    "print(np.sum(v15_1, axis=1))"
   ]
  },
  {
   "cell_type": "code",
   "execution_count": null,
   "id": "c247ae3f",
   "metadata": {},
   "outputs": [],
   "source": []
  }
 ],
 "metadata": {
  "kernelspec": {
   "display_name": "Python 3 (ipykernel)",
   "language": "python",
   "name": "python3"
  },
  "language_info": {
   "codemirror_mode": {
    "name": "ipython",
    "version": 3
   },
   "file_extension": ".py",
   "mimetype": "text/x-python",
   "name": "python",
   "nbconvert_exporter": "python",
   "pygments_lexer": "ipython3",
   "version": "3.9.13"
  }
 },
 "nbformat": 4,
 "nbformat_minor": 5
}
